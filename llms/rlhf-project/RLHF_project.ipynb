{
  "nbformat": 4,
  "nbformat_minor": 0,
  "metadata": {
    "colab": {
      "provenance": []
    },
    "kernelspec": {
      "name": "python3",
      "display_name": "Python 3"
    },
    "language_info": {
      "name": "python"
    }
  },
  "cells": [
    {
      "cell_type": "markdown",
      "source": [
        "# Step 1: Define the Problem\n",
        "\n",
        "I will create a legal summarizer, which condenses legal documents into understandable summaries."
      ],
      "metadata": {
        "id": "eOrXOLs9juTQ"
      }
    },
    {
      "cell_type": "markdown",
      "source": [
        "# Step 2: Apply RLHF Principles\n",
        "Generate Model Outputs: Provide multiple outputs for a sample query/task (e.g., explaining a legal term).\n",
        "Collect Human Feedback: Define criteria for evaluating responses (e.g., clarity, accuracy, tone). Rank the outputs based on these criteria.\n",
        "Train a Reward Model: Simulate a reward signal using the rankings. Explain how the reward model improves the main LLM.\n"
      ],
      "metadata": {
        "id": "20znJ8PwznQZ"
      }
    },
    {
      "cell_type": "markdown",
      "source": [
        "\n",
        "# Step 3: Incorporate Advanced Prompt Engineering\n",
        "1. Write a static prompt and show how dynamic inputs can improve its relevance.\n",
        "\n",
        "Static prompt: Explain Explain Res ipsa loquitur\n",
        "\n",
        "ChatGPT response:\n",
        "```\n",
        "Res ipsa loquitur is a Latin legal term that means \"the thing speaks for itself.\" It’s used in tort law (civil law dealing with personal injury or negligence) when the cause of an accident or injury is so obviously the result of negligence that no direct evidence is required to prove fault.\n",
        "\n",
        "✅ Key Elements of Res Ipsa Loquitur:\n",
        "For this doctrine to apply, three conditions must typically be met:\n",
        "\n",
        "The accident wouldn’t normally happen without negligence:\n",
        "\n",
        "Example: A pedestrian is struck by a falling air conditioning unit while walking down the street. This is not something that usually happens unless someone was careless.\n",
        "\n",
        "The defendant had exclusive control over the cause of harm:\n",
        "\n",
        "Example: If a patient undergoes surgery and a sponge is left inside their body, the surgical team had exclusive control over the operating room environment.\n",
        "\n",
        "The plaintiff did not contribute to the accident:\n",
        "\n",
        "Example: If a person is sitting in a parked car and a tree limb falls on them, they clearly did nothing to cause the accident.\n",
        "\n",
        "💡 Example in Practice:\n",
        "Imagine you’re dining at a restaurant, and a ceiling fan suddenly detaches and falls, injuring you.\n",
        "\n",
        "Under res ipsa loquitur, you wouldn’t need to prove exactly how the restaurant was negligent (e.g., poor maintenance or faulty installation).\n",
        "\n",
        "The mere fact that the fan fell is enough to infer negligence, because ceiling fans don’t typically fall without someone being careless.\n",
        "\n",
        "🔥 Impact of Res Ipsa Loquitur:\n",
        "Burden of Proof Shifts: The burden shifts to the defendant, who must prove they were not negligent.\n",
        "\n",
        "Powerful Legal Tool: It simplifies cases where negligence is apparent but difficult to directly prove.\n",
        "```\n",
        "\n",
        "Dynamic prompt: Can you include an example of something that's not Res Ipsa Loquitur?\n",
        "\n",
        "ChatGPT response:\n",
        "```\n",
        "Sure! Here’s an example of something that is not covered by res ipsa loquitur:\n",
        "\n",
        "❌ Example: Car Accident at an Intersection\n",
        "Imagine two cars collide at an intersection.\n",
        "\n",
        "Why it doesn't qualify:\n",
        "\n",
        "Car accidents happen frequently and can result from a variety of factors (e.g., driver error, weather conditions, or mechanical failure).\n",
        "\n",
        "The mere fact that an accident occurred does not automatically imply negligence—it requires further evidence (e.g., witness statements, traffic camera footage) to determine fault.\n",
        "\n",
        "💡 Key Difference:\n",
        "In res ipsa loquitur cases, the event itself clearly wouldn’t happen without negligence (e.g., a surgical instrument left inside a patient).\n",
        "\n",
        "In the car accident example, negligence is not automatically inferred just because the accident occurred—additional evidence is necessary.\n",
        "```\n",
        "\n",
        "2. Use CoT prompting for a complex query and evaluate whether step-by-step reasoning improves accuracy.\n"
      ],
      "metadata": {
        "id": "UgTmgg-uz4R1"
      }
    },
    {
      "cell_type": "markdown",
      "source": [
        "\n",
        "# Step 4: Implement Ethical Considerations\n",
        "Bias Detection: Evaluate your AI solution for potential biases in responses. Provide examples and corrections.\n",
        "\n",
        "A: I couldn't find any potential biases in the above responses. The AI seemed pretty careful to be sensitive of potential offenses.\n",
        "\n",
        "Data Privacy: Outline how you would anonymize sensitive user data during training or deployment.\n",
        "\n",
        "A: If the user information itself is important for training the AI, I would probably use a cipher to encode names and addresses before inputting them into AI, then decode them using the key after the AI creates an output. Otherwise, if the user data doesn't matter, I would simply redact it but label it's data type.\n"
      ],
      "metadata": {
        "id": "GW0WD3_Oz56f"
      }
    },
    {
      "cell_type": "markdown",
      "source": [
        "\n",
        "# Step 5: Evaluate and Report\n",
        "Define metrics to evaluate the solution (e.g., accuracy, user satisfaction).\n",
        "\n",
        "The following are metrics to evaluate the AI response:\n",
        "\n",
        "\n",
        "\n",
        "Write a report (500 words) summarizing your findings, including:\n",
        "- Challenges faced and solutions implemented.\n",
        "- Observations on how RLHF and prompt engineering enhanced the system’s performance.\n",
        "- Ethical safeguards and their impact on the quality of outputs.\n",
        "\n"
      ],
      "metadata": {
        "id": "Lhz-rnyUz7xH"
      }
    },
    {
      "cell_type": "code",
      "source": [],
      "metadata": {
        "id": "k54vjEWHLrfz"
      },
      "execution_count": null,
      "outputs": []
    }
  ]
}